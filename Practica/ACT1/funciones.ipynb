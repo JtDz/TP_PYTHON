{
 "cells": [
  {
   "cell_type": "code",
   "execution_count": null,
   "metadata": {},
   "outputs": [],
   "source": [
    "def normalize(cadena):\n",
    "    '''reemplaza una vocal con tilde por un sin tilde'''\n",
    "    reemplazar = (\n",
    "        (\"á\", \"a\"),\n",
    "        (\"é\", \"e\"),\n",
    "        (\"í\", \"i\"),\n",
    "        (\"ó\", \"o\"),\n",
    "        (\"ú\", \"u\"),\n",
    "    )\n",
    "    for a, b in reemplazar:\n",
    "        cadena = cadena.replace(a, b)\n",
    "    return cadena\n",
    "\n",
    "\n",
    "def formatear_cadena(lista):\n",
    "    '''corrige cadena de caracteres de una lista para poder operar con ella'''\n",
    "    \n",
    "    newlist = []\n",
    "    for elem in lista:\n",
    "        elem = normalize(elem).lower()\n",
    "        car = '\",\\' '\n",
    "        nom = ''\n",
    "        for letra in elem:\n",
    "            if letra not in car:\n",
    "                nom  += letra\n",
    "        newlist.append(nom)\n",
    "    if newlist[0] == '':\n",
    "        newlist.remove(newlist[0])\n",
    "    if newlist[len(newlist)-1] == '':\n",
    "        newlist.remove(newlist[len(newlist)-1])\n",
    "        \n",
    "    return newlist\n",
    "\n",
    "\n",
    "def modificar_lista(lista, lista_ordenada, lista_no_ordenada):\n",
    "    '''Devuelve una nueva lista con sus elementos modificados de acuerdo a una lista previamente ordenada '''\n",
    "    lista_mod = []\n",
    "    for elem in lista_ordenada:\n",
    "        i = 0\n",
    "        while elem != lista_no_ordenada[i]:\n",
    "            i += 1\n",
    "        lista_mod.append(lista[i])    \n",
    "    return lista_mod\n",
    "        \n",
    "        \n",
    "def imprimir_datos(lista_nom, lista_eva1, lista_eva2, lista_sum):\n",
    "    \n",
    "    '''Muestra los datos por pantalla en una tabla'''\n",
    "    \n",
    "    print (\"%-3s%-15s%-15s%-15s%-15s\" % ('', 'Nombre', 'Evacualción 1', 'Evaluació 2', 'Total'))\n",
    "    print (\"___________________________________________________________________________________\") \n",
    "    i = 0\n",
    "    while i < len(lista_nom):\n",
    "        print (\"%-3s%-15s%8s%13s%13s\" % (i, lista_nom[i].capitalize(), lista_eva1[i], lista_eva2[i], lista_sum[i]))\n",
    "        i += 1\n"
   ]
  }
 ],
 "metadata": {
  "kernelspec": {
   "display_name": "Python 3",
   "language": "python",
   "name": "python3"
  },
  "language_info": {
   "codemirror_mode": {
    "name": "ipython",
    "version": 3
   },
   "file_extension": ".py",
   "mimetype": "text/x-python",
   "name": "python",
   "nbconvert_exporter": "python",
   "pygments_lexer": "ipython3",
   "version": "3.8.5"
  }
 },
 "nbformat": 4,
 "nbformat_minor": 4
}
